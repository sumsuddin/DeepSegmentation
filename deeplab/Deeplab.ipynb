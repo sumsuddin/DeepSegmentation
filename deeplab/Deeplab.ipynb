{
  "nbformat": 4,
  "nbformat_minor": 0,
  "metadata": {
    "colab": {
      "name": "Deeplab.ipynb",
      "version": "0.3.2",
      "provenance": [],
      "collapsed_sections": []
    },
    "kernelspec": {
      "name": "python3",
      "display_name": "Python 3"
    },
    "accelerator": "GPU"
  },
  "cells": [
    {
      "metadata": {
        "id": "DvslS6Ql9YHL",
        "colab_type": "code",
        "colab": {}
      },
      "cell_type": "code",
      "source": [
        "!apt-get install -y -qq software-properties-common python-software-properties module-init-tools\n",
        "!add-apt-repository -y ppa:alessandro-strada/ppa 2>&1 > /dev/null\n",
        "!apt-get update -qq 2>&1 > /dev/null\n",
        "!apt-get -y install -qq google-drive-ocamlfuse fuse\n",
        "from google.colab import auth\n",
        "auth.authenticate_user()\n",
        "from oauth2client.client import GoogleCredentials\n",
        "creds = GoogleCredentials.get_application_default()\n",
        "import getpass\n",
        "!google-drive-ocamlfuse -headless -id={creds.client_id} -secret={creds.client_secret} < /dev/null 2>&1 | grep URL\n",
        "vcode = getpass.getpass()\n",
        "!echo {vcode} | google-drive-ocamlfuse -headless -id={creds.client_id} -secret={creds.client_secret}"
      ],
      "execution_count": 0,
      "outputs": []
    },
    {
      "metadata": {
        "id": "v2G0gEOD98VV",
        "colab_type": "code",
        "colab": {}
      },
      "cell_type": "code",
      "source": [
        "!mkdir -p drive\n",
        "!google-drive-ocamlfuse drive"
      ],
      "execution_count": 0,
      "outputs": []
    },
    {
      "metadata": {
        "id": "qOVm4fDW_QTK",
        "colab_type": "code",
        "colab": {}
      },
      "cell_type": "code",
      "source": [
        "!/opt/bin/nvidia-smi\n",
        "#!top\n",
        "#!lscpu\n"
      ],
      "execution_count": 0,
      "outputs": []
    },
    {
      "metadata": {
        "id": "0WensYRblJd6",
        "colab_type": "code",
        "colab": {}
      },
      "cell_type": "code",
      "source": [
        "ls drive"
      ],
      "execution_count": 0,
      "outputs": []
    },
    {
      "metadata": {
        "id": "Ca4IKSzuPZ1-",
        "colab_type": "code",
        "colab": {}
      },
      "cell_type": "code",
      "source": [
        "!git clone https://github.com/sumsuddin/DeepSegmentation.git"
      ],
      "execution_count": 0,
      "outputs": []
    },
    {
      "metadata": {
        "id": "P2I-KQ6sQa_r",
        "colab_type": "code",
        "colab": {}
      },
      "cell_type": "code",
      "source": [
        "!cd DeepSegmentation"
      ],
      "execution_count": 0,
      "outputs": []
    },
    {
      "metadata": {
        "id": "-_yu7__aQsTF",
        "colab_type": "code",
        "colab": {}
      },
      "cell_type": "code",
      "source": [
        "cp drive/Codes/tfrecords.tar.gz ."
      ],
      "execution_count": 0,
      "outputs": []
    },
    {
      "metadata": {
        "id": "X3r70iHNQ4jW",
        "colab_type": "code",
        "colab": {}
      },
      "cell_type": "code",
      "source": [
        "!tar -xf tfrecords.tar.gz"
      ],
      "execution_count": 0,
      "outputs": []
    },
    {
      "metadata": {
        "id": "hCeCwdjYnj4_",
        "colab_type": "code",
        "colab": {}
      },
      "cell_type": "code",
      "source": [
        "!cd DeepSegmentation/ && export PYTHONPATH=$PYTHONPATH:`pwd`:`pwd`/slim && cd deeplab && sh local_test_mobilenetv2.sh\n"
      ],
      "execution_count": 0,
      "outputs": []
    },
    {
      "metadata": {
        "id": "5GcmZz5jrXkq",
        "colab_type": "code",
        "colab": {}
      },
      "cell_type": "code",
      "source": [
        "! cd DeepSegmentation/ && \\\n",
        "      export PYTHONPATH=$PYTHONPATH:`pwd`:`pwd`/slim && \\\n",
        "      cd deeplab && \\\n",
        "      python train.py \\\n",
        "            --logtostderr \\\n",
        "            --training_number_of_steps=30000 \\\n",
        "            --train_split=\"train\" \\\n",
        "            --model_variant=\"mobilenet_v2\" \\\n",
        "            --atrous_rates=12 \\\n",
        "            --atrous_rates=24 \\\n",
        "            --atrous_rates=36 \\\n",
        "            --output_stride=8 \\\n",
        "            --decoder_output_stride=4 \\\n",
        "            --train_crop_size=240 \\\n",
        "            --train_crop_size=320 \\\n",
        "            --train_batch_size=24 \\\n",
        "            --dataset=\"iris\" \\\n",
        "            --initialize_last_layer=False \\\n",
        "            --tf_initial_checkpoint=datasets/pascal_voc_seg/init_models/deeplabv3_mnv2_pascal_train_aug/model.ckpt-30000 \\\n",
        "            --train_logdir=/content/drive/Codes/training/ \\\n",
        "            --dataset_dir=/content/tfrecords/"
      ],
      "execution_count": 0,
      "outputs": []
    },
    {
      "metadata": {
        "id": "0Ar3C_BKVjfG",
        "colab_type": "code",
        "colab": {}
      },
      "cell_type": "code",
      "source": [
        "! cd DeepSegmentation/ && \\\n",
        "      export PYTHONPATH=$PYTHONPATH:`pwd`:`pwd`/slim && \\\n",
        "      cd deeplab && \\\n",
        "      python export_model.py \\\n",
        "            --logtostderr\n",
        "            --decoder_output_stride=4\n",
        "            --atrous_rates=12\n",
        "            --atrous_rates=24\n",
        "            --atrous_rates=36\n",
        "            --output_stride=8\n",
        "            --checkpoint_path=/content/drive/Codes/training/model.ckpt-30000\n",
        "            --export_path=/content/drive/Codes/training/iris_frozen.pb\n",
        "            --model_variant=\"mobilenet_v2\"\n",
        "            --num_classes=5\n",
        "            --crop_size=240\n",
        "            --crop_size=320\n",
        "            --inference_scales=1.0"
      ],
      "execution_count": 0,
      "outputs": []
    },
    {
      "metadata": {
        "id": "HQGuxvxkD66K",
        "colab_type": "code",
        "colab": {}
      },
      "cell_type": "code",
      "source": [
        ""
      ],
      "execution_count": 0,
      "outputs": []
    }
  ]
}